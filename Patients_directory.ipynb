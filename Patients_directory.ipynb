{
 "cells": [
  {
   "cell_type": "code",
   "execution_count": 14,
   "id": "2e8684f3",
   "metadata": {},
   "outputs": [
    {
     "name": "stdout",
     "output_type": "stream",
     "text": [
      "<class 'list'>\n"
     ]
    },
    {
     "name": "stdout",
     "output_type": "stream",
     "text": [
      "[{'name': 'b', 'last_name': 'b', 'dob': '2'}, {'name': 'b', 'last_name': 'b', 'dob': '2'}, {'name': 'd', 'last_name': 'd', 'dob': '4'}, {'name': 'd', 'last_name': 'd', 'dob': '4'}, {'name': 'a', 'last_name': 'b', 'dob': '111'}]\n",
      "Registry has been loaded.Enter the name of the patient to search:\n"
     ]
    },
    {
     "data": {
      "text/plain": [
       "[{'name': 'b', 'last_name': 'b', 'dob': '2'},\n",
       " {'name': 'b', 'last_name': 'b', 'dob': '2'},\n",
       " {'name': 'd', 'last_name': 'd', 'dob': '4'},\n",
       " {'name': 'd', 'last_name': 'd', 'dob': '4'},\n",
       " {'name': 'a', 'last_name': 'b', 'dob': '111'}]"
      ]
     },
     "execution_count": 14,
     "metadata": {},
     "output_type": "execute_result"
    }
   ],
   "source": [
    "'''\n",
    "A program to collect patients information,assembles it into a list of dictionaries structure  and stores this structure in a json file.\n",
    "each dictionary contains information on a patient, including name,last name,date of birth and age.\n",
    "program has a functionality to load existing patients and add new patients to the existing .json file.\n",
    "'''\n",
    "\n",
    "import json\n",
    "import datetime\n",
    "\n",
    "def add_new_patients():\n",
    "    patients=[]\n",
    "    patient={}\n",
    "    \n",
    "    \"\"\"\n",
    "       Step 1.loads existing information from a json file to a patients list\n",
    "       Step 2.appends new patients information to this list\n",
    "       Step 3.writes updated list to the json file\n",
    " \n",
    "       \n",
    "    \"\"\"\n",
    "    \n",
    "   \n",
    "    ## Load existing patients info from a json file to a list\n",
    "    try:\n",
    "        with open('patients_info.json','r') as file:\n",
    "            patients=json.load(file)\n",
    "            print(type(patients))\n",
    "    except FileNotFoundError:\n",
    "        print(\"File not found. A new file will be created.\")    \n",
    "    except json.JSONDecodeError:\n",
    "        print(\"Error decoding JSON. Starting with an empty patients list.\")\n",
    "        \n",
    "    \n",
    "    \n",
    "    while(True):    \n",
    "        a=input(\"To add a new patient enter yes or no to exit:\")\n",
    "        if a.lower()==\"yes\":\n",
    "            patient['name']=input(\"Patient's first name:\")\n",
    "            patient['last_name']=input(\"Patient's last name:\")\n",
    "            #Add functionality to check if dob is in correct format\n",
    "            patient['dob']=input(\"Patient's DOB(mm-dd-yyyy):\")\n",
    "            #Add functionality to calculate age from dob andstore it in dictionary\n",
    "            #patient_info['age']=datetime.now().year-int()\n",
    "            patients.append(patient)\n",
    "        else:\n",
    "            break\n",
    "    \n",
    "    with open('patients_info.json','w') as file:\n",
    "        json.dump(patients,file,indent=4)\n",
    "    print(patients)\n",
    "     \n",
    "\n",
    "def load_patients_info_from_file():\n",
    "    \n",
    "    with open('patients_info.json','r') as file:\n",
    "        patients_data=json.load(file)  \n",
    "        print(f\"Registry has been loaded.Enter the name of the patient to search:\")\n",
    "        ##add function of searching a patient by name and date of birth\n",
    "        return  patients_data\n",
    "\n",
    "add_new_patients()\n",
    "load_patients_info_from_file()   \n",
    " \n"
   ]
  }
 ],
 "metadata": {
  "kernelspec": {
   "display_name": "Python 3",
   "language": "python",
   "name": "python3"
  },
  "language_info": {
   "codemirror_mode": {
    "name": "ipython",
    "version": 3
   },
   "file_extension": ".py",
   "mimetype": "text/x-python",
   "name": "python",
   "nbconvert_exporter": "python",
   "pygments_lexer": "ipython3",
   "version": "3.12.4"
  }
 },
 "nbformat": 4,
 "nbformat_minor": 5
}
