{
 "cells": [
  {
   "cell_type": "code",
   "execution_count": 11,
   "id": "4363fc8b",
   "metadata": {},
   "outputs": [
    {
     "name": "stdout",
     "output_type": "stream",
     "text": [
      "[{'\\ufeffDate': '6/11/2025', 'City': 'Delhi', 'Temperature': '36.5', 'Condition': 'Clear'}, {'\\ufeffDate': '6/12/2025', 'City': 'Delhi', 'Temperature': '37.8', 'Condition': 'Sunny'}, {'\\ufeffDate': '6/13/2025', 'City': 'Delhi', 'Temperature': '38', 'Condition': 'Rain'}, {'\\ufeffDate': '6/14/2025', 'City': 'Delhi', 'Temperature': '34.2', 'Condition': 'Clouds'}, {'\\ufeffDate': '6/15/2025', 'City': 'Delhi', 'Temperature': '35', 'Condition': 'Clear'}, {'\\ufeffDate': '6/16/2025', 'City': 'Delhi', 'Temperature': '33.4', 'Condition': 'Sunny'}, {'\\ufeffDate': '6/17/2025', 'City': 'Delhi', 'Temperature': '34.7', 'Condition': 'Rain'}]\n",
      "🟢👌Data was loaded to a json file:7 lines of data were loaded into converted_data.json file\n",
      "{\n",
      "  \"\\ufeffDate\": \"6/11/2025\",\n",
      "  \"City\": \"Delhi\",\n",
      "  \"Temperature\": \"36.5\",\n",
      "  \"Condition\": \"Clear\"\n",
      "}\n",
      "{\n",
      "  \"\\ufeffDate\": \"6/12/2025\",\n",
      "  \"City\": \"Delhi\",\n",
      "  \"Temperature\": \"37.8\",\n",
      "  \"Condition\": \"Sunny\"\n",
      "}\n",
      "{\n",
      "  \"\\ufeffDate\": \"6/13/2025\",\n",
      "  \"City\": \"Delhi\",\n",
      "  \"Temperature\": \"38\",\n",
      "  \"Condition\": \"Rain\"\n",
      "}\n"
     ]
    }
   ],
   "source": [
    "import json\n",
    "import os\n",
    "import csv\n",
    "\n",
    "INPUT_FILE=\"raw_data.csv\"\n",
    "OUTPUT_FILE=\"converted_data.json\"\n",
    "\n",
    "def load_csv_data(file_name):\n",
    "    if not os.path.exists(INPUT_FILE):\n",
    "        print (\"CSV file not found\")\n",
    "        return\n",
    "\n",
    "    with open(file_name,'r',encoding='utf-8') as f:\n",
    "        reader=csv.DictReader(f)\n",
    "        data=list(reader)\n",
    "        print(data)\n",
    "        return data\n",
    "    \n",
    "\n",
    "def save_as_json(data,output_file_name):\n",
    "    with open(output_file_name,'w',newline='',encoding=\"utf-8\")as f:\n",
    "       json.dump(data,f,indent=2)\n",
    "    print(f\"🟢👌Data was loaded to a json file:{len(data)} lines of data were loaded into {output_file_name} file\")\n",
    "\n",
    "\n",
    "def preview_data(data,count=3):\n",
    "    for row in data[:count]:\n",
    "     print(json.dumps(row,indent=2))\n",
    "    \n",
    "def main():\n",
    "   data=load_csv_data(INPUT_FILE)\n",
    "   if not data:\n",
    "      print(\"No data ws found\")\n",
    "      return\n",
    "   save_as_json(data,OUTPUT_FILE)\n",
    "   preview_data(data,count=3)\n",
    "\n",
    "if __name__==\"__main__\":\n",
    " main()"
   ]
  }
 ],
 "metadata": {
  "kernelspec": {
   "display_name": "Python 3",
   "language": "python",
   "name": "python3"
  },
  "language_info": {
   "codemirror_mode": {
    "name": "ipython",
    "version": 3
   },
   "file_extension": ".py",
   "mimetype": "text/x-python",
   "name": "python",
   "nbconvert_exporter": "python",
   "pygments_lexer": "ipython3",
   "version": "3.12.4"
  }
 },
 "nbformat": 4,
 "nbformat_minor": 5
}
