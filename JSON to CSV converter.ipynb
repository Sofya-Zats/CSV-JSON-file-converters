{
 "cells": [
  {
   "cell_type": "code",
   "execution_count": null,
   "id": "c593e9a1",
   "metadata": {},
   "outputs": [
    {
     "name": "stdout",
     "output_type": "stream",
     "text": [
      "Convering JSON to CSV...\n",
      "Invalid JSON format\n",
      "No data to extract\n"
     ]
    }
   ],
   "source": [
    "import json\n",
    "import csv\n",
    "import os\n",
    "\n",
    "INPUT_FILE=\"raw_json_data.json\" \n",
    "OUTPUT_FILE= \"converted_data.csv\"\n",
    "\n",
    "def load_json_file(filename):\n",
    "  if not os.path.exists(filename):\n",
    "    print(f\"File not found\")\n",
    "    return []\n",
    "\n",
    "  with open(filename,'r',encoding='utf-8') as f:\n",
    "    try:\n",
    "        return json.load(f)\n",
    "    except:\n",
    "        print(\"Invalid JSON format\")\n",
    "\n",
    "def convert_to_csv(data,output_file):\n",
    "    if not data:\n",
    "        print(\"No data to extract\")\n",
    "        return\n",
    "\n",
    "    fieldname=list(data[0].keys())\n",
    "    with open(output_file,'w',newline='',encoding=\"utf-8\") as f:\n",
    "        writer=csv.DictWriter(f,fieldnames=fieldname)\n",
    "        writer.writeheader()\n",
    "        for record in data:\n",
    "            writer.writerow(record)\n",
    "    print(f\"Converted {len(data)}  records to {output_file}\")\n",
    "    \n",
    "def main():\n",
    "    print(\"Convering JSON to CSV...\")\n",
    "    data=load_json_file(INPUT_FILE)\n",
    "    convert_to_csv(data,OUTPUT_FILE)\n",
    "\n",
    "if __name__==\"__main__\":\n",
    "    main()\n",
    "\n",
    "\n"
   ]
  }
 ],
 "metadata": {
  "kernelspec": {
   "display_name": "Python 3",
   "language": "python",
   "name": "python3"
  },
  "language_info": {
   "codemirror_mode": {
    "name": "ipython",
    "version": 3
   },
   "file_extension": ".py",
   "mimetype": "text/x-python",
   "name": "python",
   "nbconvert_exporter": "python",
   "pygments_lexer": "ipython3",
   "version": "3.12.4"
  }
 },
 "nbformat": 4,
 "nbformat_minor": 5
}
